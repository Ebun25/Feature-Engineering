{
 "cells": [
  {
   "cell_type": "markdown",
   "id": "2ff64e16",
   "metadata": {},
   "source": [
    "# Three New Features and The Hypothesis regarding the features \n",
    "\n",
    "Feature 1 : Total_Qual_Cond : Overall_Qual + Overall_Cond \n",
    "- Hypothesis - Our hypothesis is that adding quality and condition gives us the overall quality and condition of the house and a higher number should fetch a higher sales price. \n",
    "\n",
    "Feature 2 : Outside : Combining variables Garage_Area + Porch_Area \n",
    "- Hypothesis - Our hypothesis is that Garage Area and Porch Area will affect the Sales Price, we expect a positive effect on price but not a very strong correlation.\n",
    "\n",
    "Feature 3 : First_Liv_ Per_Lot_Area :  First_Flr_SF / Lot_Area \n",
    "- Hypothesis - Our hypothesis is that a large first floor area compared to whole lot area would fetch a higher sales price as a bigger first floor would mean a larger common living area"
   ]
  },
  {
   "cell_type": "code",
   "execution_count": null,
   "id": "3a8e0eb2",
   "metadata": {},
   "outputs": [],
   "source": [
    "# import pd, plt, sns\n",
    "import pandas as pd \n",
    "import matplotlib.pyplot as plt \n",
    "import seaborn as sns \n",
    "\n",
    "\n",
    "# define file name\n",
    "file = './__datasets/Ames Housing Dataset.xlsx'\n",
    "\n",
    "\n",
    "# read file\n",
    "housing = pd.read_excel(io = file)\n",
    "\n",
    "\n",
    "# output\n",
    "housing.head()"
   ]
  },
  {
   "cell_type": "code",
   "execution_count": null,
   "id": "68a031f3",
   "metadata": {},
   "outputs": [],
   "source": []
  },
  {
   "cell_type": "code",
   "execution_count": null,
   "id": "ca443fb1",
   "metadata": {},
   "outputs": [],
   "source": [
    "# Create Feature 1\n",
    "housing['Total_Qual_Cond'] = housing['Overall_Qual'] + housing['Overall_Cond']\n",
    "housing.head()"
   ]
  },
  {
   "cell_type": "code",
   "execution_count": null,
   "id": "c2816d17",
   "metadata": {},
   "outputs": [],
   "source": [
    "# Create Feature 2\n",
    "housing['Outside'] = housing['Garage_Area'] + housing['Porch_Area']\n",
    "housing.head()"
   ]
  },
  {
   "cell_type": "code",
   "execution_count": null,
   "id": "7b881216",
   "metadata": {},
   "outputs": [],
   "source": [
    "# Creat Feature 3\n",
    "housing['First_Liv_ Per_Lot_Area'] = housing['First_Flr_SF'] / housing['Lot_Area']\n",
    "housing.head()"
   ]
  },
  {
   "cell_type": "code",
   "execution_count": null,
   "id": "7c3fd965",
   "metadata": {},
   "outputs": [],
   "source": [
    "# creat heatmap\n",
    "fig, ax = plt.subplots( figsize = (12,12))\n",
    "sns.heatmap(data = housing[['Sale_Price','Total_Qual_Cond','Outside','First_Liv_ Per_Lot_Area']].corr(),\n",
    "           cmap = 'inferno',\n",
    "           square = True,\n",
    "           annot = True,\n",
    "           linecolor = 'black')\n",
    "plt.title(label = \"\"\"\n",
    "Housing_analysis\n",
    "\"\"\")\n",
    "\n",
    "plt.show(block = True)"
   ]
  },
  {
   "cell_type": "code",
   "execution_count": null,
   "id": "60b85e34",
   "metadata": {},
   "outputs": [],
   "source": [
    "housing"
   ]
  },
  {
   "cell_type": "markdown",
   "id": "31266947",
   "metadata": {},
   "source": [
    "Conclusion\n",
    "\n",
    "- Feature 1:In our hypothesis, we felt that the the combined quality and condition will have a strong correlation with the Sales Price. The correlation shows 0.59 which is strong but not as strong as expected\n",
    "\n",
    "- Feature 2 : In our hypothesis, we felt that the outside area of porch and garage area would have an weak effect on price, we thought that it will be a positive relation but not a strong one. In our results, we find it performing better than feature 1 with a correlation of 0.66 as opposed to 0.59 of feature 1\n",
    "\n",
    "- Feature 3 : In our hypothesis, we felt that the correlation for this would be strong with price but our results show a very weak correlation - that of 0.0077 and we can say that it almost non-existant"
   ]
  }
 ],
 "metadata": {
  "kernelspec": {
   "display_name": "Python 3 (ipykernel)",
   "language": "python",
   "name": "python3"
  },
  "language_info": {
   "codemirror_mode": {
    "name": "ipython",
    "version": 3
   },
   "file_extension": ".py",
   "mimetype": "text/x-python",
   "name": "python",
   "nbconvert_exporter": "python",
   "pygments_lexer": "ipython3",
   "version": "3.9.13"
  },
  "toc": {
   "base_numbering": 1,
   "nav_menu": {},
   "number_sections": true,
   "sideBar": true,
   "skip_h1_title": false,
   "title_cell": "Table of Contents",
   "title_sidebar": "Contents",
   "toc_cell": false,
   "toc_position": {},
   "toc_section_display": true,
   "toc_window_display": false
  },
  "varInspector": {
   "cols": {
    "lenName": 16,
    "lenType": 16,
    "lenVar": 40
   },
   "kernels_config": {
    "python": {
     "delete_cmd_postfix": "",
     "delete_cmd_prefix": "del ",
     "library": "var_list.py",
     "varRefreshCmd": "print(var_dic_list())"
    },
    "r": {
     "delete_cmd_postfix": ") ",
     "delete_cmd_prefix": "rm(",
     "library": "var_list.r",
     "varRefreshCmd": "cat(var_dic_list()) "
    }
   },
   "types_to_exclude": [
    "module",
    "function",
    "builtin_function_or_method",
    "instance",
    "_Feature"
   ],
   "window_display": false
  }
 },
 "nbformat": 4,
 "nbformat_minor": 5
}
